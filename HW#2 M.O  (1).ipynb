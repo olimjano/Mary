{
 "cells": [
  {
   "cell_type": "markdown",
   "id": "grand-eugene",
   "metadata": {},
   "source": [
    "# Consumer Behavior in eCommerce \n",
    "\n",
    "We can try to analyze the data to understand age, and purchase dollar amount. We can see the general trends in spending in electronics, books and clothing (qualitative shopping category removed for ease of box plots) by age, purchase amount and quantity. We can also speculate if there are correlations between customer age and their purchase price and amounts. \n",
    "\n",
    "Data source: https://www.kaggle.com/datasets/shriyashjagtap/e-commerce-customer-for-behavior-analysis?select=ecommerce_customer_data_custom_ratios.csv"
   ]
  },
  {
   "cell_type": "markdown",
   "id": "alpha-barrier",
   "metadata": {},
   "source": [
    "### A)  Data Columns & Info "
   ]
  },
  {
   "cell_type": "code",
   "execution_count": 4,
   "id": "pleasant-waste",
   "metadata": {},
   "outputs": [],
   "source": [
    "#Importing cvs file in consumer analytics \n",
    "import numpy as np\n",
    "import pandas as pd\n",
    "import matplotlib.pyplot as plt\n",
    "df = pd.read_csv('eCommerce customer data.csv')"
   ]
  },
  {
   "cell_type": "code",
   "execution_count": 28,
   "id": "dirty-accounting",
   "metadata": {
    "scrolled": false
   },
   "outputs": [
    {
     "name": "stdout",
     "output_type": "stream",
     "text": [
      "<class 'pandas.core.frame.DataFrame'>\n",
      "RangeIndex: 399 entries, 0 to 398\n",
      "Data columns (total 5 columns):\n",
      " #   Column                 Non-Null Count  Dtype\n",
      "---  ------                 --------------  -----\n",
      " 0   Product Price          399 non-null    int64\n",
      " 1   Quantity               399 non-null    int64\n",
      " 2   Total Purchase Amount  399 non-null    int64\n",
      " 3   Customer Age           399 non-null    int64\n",
      " 4   Churn                  399 non-null    int64\n",
      "dtypes: int64(5)\n",
      "memory usage: 15.7 KB\n"
     ]
    }
   ],
   "source": [
    "#We want to see the Information on this data set, namely the column categories \n",
    "df.info()"
   ]
  },
  {
   "cell_type": "markdown",
   "id": "yellow-neighborhood",
   "metadata": {},
   "source": [
    "### B) Data Statistics (includes beg. and end of data)"
   ]
  },
  {
   "cell_type": "code",
   "execution_count": 29,
   "id": "obvious-statement",
   "metadata": {
    "scrolled": false
   },
   "outputs": [
    {
     "data": {
      "text/html": [
       "<div>\n",
       "<style scoped>\n",
       "    .dataframe tbody tr th:only-of-type {\n",
       "        vertical-align: middle;\n",
       "    }\n",
       "\n",
       "    .dataframe tbody tr th {\n",
       "        vertical-align: top;\n",
       "    }\n",
       "\n",
       "    .dataframe thead th {\n",
       "        text-align: right;\n",
       "    }\n",
       "</style>\n",
       "<table border=\"1\" class=\"dataframe\">\n",
       "  <thead>\n",
       "    <tr style=\"text-align: right;\">\n",
       "      <th></th>\n",
       "      <th>Product Price</th>\n",
       "      <th>Quantity</th>\n",
       "      <th>Total Purchase Amount</th>\n",
       "      <th>Customer Age</th>\n",
       "      <th>Churn</th>\n",
       "    </tr>\n",
       "  </thead>\n",
       "  <tbody>\n",
       "    <tr>\n",
       "      <th>count</th>\n",
       "      <td>399.000000</td>\n",
       "      <td>399.000000</td>\n",
       "      <td>399.000000</td>\n",
       "      <td>399.000000</td>\n",
       "      <td>399.000000</td>\n",
       "    </tr>\n",
       "    <tr>\n",
       "      <th>mean</th>\n",
       "      <td>253.541353</td>\n",
       "      <td>2.954887</td>\n",
       "      <td>2575.809524</td>\n",
       "      <td>42.095238</td>\n",
       "      <td>0.240602</td>\n",
       "    </tr>\n",
       "    <tr>\n",
       "      <th>std</th>\n",
       "      <td>147.788684</td>\n",
       "      <td>1.364654</td>\n",
       "      <td>1407.642451</td>\n",
       "      <td>15.255148</td>\n",
       "      <td>0.427985</td>\n",
       "    </tr>\n",
       "    <tr>\n",
       "      <th>min</th>\n",
       "      <td>11.000000</td>\n",
       "      <td>1.000000</td>\n",
       "      <td>241.000000</td>\n",
       "      <td>19.000000</td>\n",
       "      <td>0.000000</td>\n",
       "    </tr>\n",
       "    <tr>\n",
       "      <th>25%</th>\n",
       "      <td>117.500000</td>\n",
       "      <td>2.000000</td>\n",
       "      <td>1469.000000</td>\n",
       "      <td>30.000000</td>\n",
       "      <td>0.000000</td>\n",
       "    </tr>\n",
       "    <tr>\n",
       "      <th>50%</th>\n",
       "      <td>259.000000</td>\n",
       "      <td>3.000000</td>\n",
       "      <td>2614.000000</td>\n",
       "      <td>40.000000</td>\n",
       "      <td>0.000000</td>\n",
       "    </tr>\n",
       "    <tr>\n",
       "      <th>75%</th>\n",
       "      <td>382.500000</td>\n",
       "      <td>4.000000</td>\n",
       "      <td>3684.000000</td>\n",
       "      <td>53.000000</td>\n",
       "      <td>0.000000</td>\n",
       "    </tr>\n",
       "    <tr>\n",
       "      <th>max</th>\n",
       "      <td>498.000000</td>\n",
       "      <td>5.000000</td>\n",
       "      <td>5247.000000</td>\n",
       "      <td>70.000000</td>\n",
       "      <td>1.000000</td>\n",
       "    </tr>\n",
       "  </tbody>\n",
       "</table>\n",
       "</div>"
      ],
      "text/plain": [
       "       Product Price    Quantity  Total Purchase Amount  Customer Age  \\\n",
       "count     399.000000  399.000000             399.000000    399.000000   \n",
       "mean      253.541353    2.954887            2575.809524     42.095238   \n",
       "std       147.788684    1.364654            1407.642451     15.255148   \n",
       "min        11.000000    1.000000             241.000000     19.000000   \n",
       "25%       117.500000    2.000000            1469.000000     30.000000   \n",
       "50%       259.000000    3.000000            2614.000000     40.000000   \n",
       "75%       382.500000    4.000000            3684.000000     53.000000   \n",
       "max       498.000000    5.000000            5247.000000     70.000000   \n",
       "\n",
       "            Churn  \n",
       "count  399.000000  \n",
       "mean     0.240602  \n",
       "std      0.427985  \n",
       "min      0.000000  \n",
       "25%      0.000000  \n",
       "50%      0.000000  \n",
       "75%      0.000000  \n",
       "max      1.000000  "
      ]
     },
     "execution_count": 29,
     "metadata": {},
     "output_type": "execute_result"
    }
   ],
   "source": [
    "df.describe()"
   ]
  },
  {
   "cell_type": "code",
   "execution_count": 30,
   "id": "special-hardware",
   "metadata": {
    "scrolled": true
   },
   "outputs": [
    {
     "data": {
      "text/html": [
       "<div>\n",
       "<style scoped>\n",
       "    .dataframe tbody tr th:only-of-type {\n",
       "        vertical-align: middle;\n",
       "    }\n",
       "\n",
       "    .dataframe tbody tr th {\n",
       "        vertical-align: top;\n",
       "    }\n",
       "\n",
       "    .dataframe thead th {\n",
       "        text-align: right;\n",
       "    }\n",
       "</style>\n",
       "<table border=\"1\" class=\"dataframe\">\n",
       "  <thead>\n",
       "    <tr style=\"text-align: right;\">\n",
       "      <th></th>\n",
       "      <th>Product Price</th>\n",
       "      <th>Quantity</th>\n",
       "      <th>Total Purchase Amount</th>\n",
       "      <th>Customer Age</th>\n",
       "      <th>Churn</th>\n",
       "    </tr>\n",
       "  </thead>\n",
       "  <tbody>\n",
       "    <tr>\n",
       "      <th>0</th>\n",
       "      <td>12</td>\n",
       "      <td>3</td>\n",
       "      <td>740</td>\n",
       "      <td>37</td>\n",
       "      <td>0</td>\n",
       "    </tr>\n",
       "    <tr>\n",
       "      <th>1</th>\n",
       "      <td>468</td>\n",
       "      <td>4</td>\n",
       "      <td>2739</td>\n",
       "      <td>37</td>\n",
       "      <td>0</td>\n",
       "    </tr>\n",
       "    <tr>\n",
       "      <th>2</th>\n",
       "      <td>288</td>\n",
       "      <td>2</td>\n",
       "      <td>3196</td>\n",
       "      <td>37</td>\n",
       "      <td>0</td>\n",
       "    </tr>\n",
       "    <tr>\n",
       "      <th>3</th>\n",
       "      <td>196</td>\n",
       "      <td>1</td>\n",
       "      <td>3509</td>\n",
       "      <td>37</td>\n",
       "      <td>0</td>\n",
       "    </tr>\n",
       "    <tr>\n",
       "      <th>4</th>\n",
       "      <td>449</td>\n",
       "      <td>1</td>\n",
       "      <td>3452</td>\n",
       "      <td>49</td>\n",
       "      <td>1</td>\n",
       "    </tr>\n",
       "  </tbody>\n",
       "</table>\n",
       "</div>"
      ],
      "text/plain": [
       "   Product Price  Quantity  Total Purchase Amount  Customer Age  Churn\n",
       "0             12         3                    740            37      0\n",
       "1            468         4                   2739            37      0\n",
       "2            288         2                   3196            37      0\n",
       "3            196         1                   3509            37      0\n",
       "4            449         1                   3452            49      1"
      ]
     },
     "execution_count": 30,
     "metadata": {},
     "output_type": "execute_result"
    }
   ],
   "source": [
    "df.head ()"
   ]
  },
  {
   "cell_type": "code",
   "execution_count": 31,
   "id": "continental-business",
   "metadata": {
    "scrolled": true
   },
   "outputs": [
    {
     "data": {
      "text/html": [
       "<div>\n",
       "<style scoped>\n",
       "    .dataframe tbody tr th:only-of-type {\n",
       "        vertical-align: middle;\n",
       "    }\n",
       "\n",
       "    .dataframe tbody tr th {\n",
       "        vertical-align: top;\n",
       "    }\n",
       "\n",
       "    .dataframe thead th {\n",
       "        text-align: right;\n",
       "    }\n",
       "</style>\n",
       "<table border=\"1\" class=\"dataframe\">\n",
       "  <thead>\n",
       "    <tr style=\"text-align: right;\">\n",
       "      <th></th>\n",
       "      <th>Product Price</th>\n",
       "      <th>Quantity</th>\n",
       "      <th>Total Purchase Amount</th>\n",
       "      <th>Customer Age</th>\n",
       "      <th>Churn</th>\n",
       "    </tr>\n",
       "  </thead>\n",
       "  <tbody>\n",
       "    <tr>\n",
       "      <th>394</th>\n",
       "      <td>361</td>\n",
       "      <td>3</td>\n",
       "      <td>3364</td>\n",
       "      <td>70</td>\n",
       "      <td>1</td>\n",
       "    </tr>\n",
       "    <tr>\n",
       "      <th>395</th>\n",
       "      <td>491</td>\n",
       "      <td>2</td>\n",
       "      <td>5067</td>\n",
       "      <td>70</td>\n",
       "      <td>1</td>\n",
       "    </tr>\n",
       "    <tr>\n",
       "      <th>396</th>\n",
       "      <td>17</td>\n",
       "      <td>3</td>\n",
       "      <td>4404</td>\n",
       "      <td>70</td>\n",
       "      <td>1</td>\n",
       "    </tr>\n",
       "    <tr>\n",
       "      <th>397</th>\n",
       "      <td>22</td>\n",
       "      <td>3</td>\n",
       "      <td>3698</td>\n",
       "      <td>70</td>\n",
       "      <td>1</td>\n",
       "    </tr>\n",
       "    <tr>\n",
       "      <th>398</th>\n",
       "      <td>119</td>\n",
       "      <td>4</td>\n",
       "      <td>836</td>\n",
       "      <td>70</td>\n",
       "      <td>1</td>\n",
       "    </tr>\n",
       "  </tbody>\n",
       "</table>\n",
       "</div>"
      ],
      "text/plain": [
       "     Product Price  Quantity  Total Purchase Amount  Customer Age  Churn\n",
       "394            361         3                   3364            70      1\n",
       "395            491         2                   5067            70      1\n",
       "396             17         3                   4404            70      1\n",
       "397             22         3                   3698            70      1\n",
       "398            119         4                    836            70      1"
      ]
     },
     "execution_count": 31,
     "metadata": {},
     "output_type": "execute_result"
    }
   ],
   "source": [
    "df.tail()"
   ]
  },
  {
   "cell_type": "code",
   "execution_count": 32,
   "id": "unauthorized-mining",
   "metadata": {
    "scrolled": true
   },
   "outputs": [
    {
     "name": "stdout",
     "output_type": "stream",
     "text": [
      "Books\n",
      "Clothing\n",
      "Electronics\n"
     ]
    }
   ],
   "source": [
    "#This shows the spending categories we are referring to in this analysis \n",
    "\n",
    "def user_defined_function(Goods):\n",
    "    for x in Goods:\n",
    "         print(x)\n",
    "Goods = [\"Books\",\"Clothing\",\"Electronics\"]\n",
    "user_defined_function(Goods)"
   ]
  },
  {
   "cell_type": "markdown",
   "id": "wound-context",
   "metadata": {},
   "source": [
    "### C) Box Plot on Product Price, Age, Quantity, Purchase Amount"
   ]
  },
  {
   "cell_type": "code",
   "execution_count": 33,
   "id": "immune-office",
   "metadata": {},
   "outputs": [
    {
     "name": "stdout",
     "output_type": "stream",
     "text": [
      "0\n",
      "1\n",
      "2\n",
      "3\n"
     ]
    },
    {
     "data": {
      "image/png": "[encoded data removed]",
      "text/plain": [
       "<Figure size 864x576 with 4 Axes>"
      ]
     },
     "metadata": {
      "needs_background": "light"
     },
     "output_type": "display_data"
    }
   ],
   "source": [
    "plt.figure(1, figsize=(12, 8))\n",
    "\n",
    "for i in range(0, 4):  \n",
    "    print(i)\n",
    "    plt.subplot(2, 2, i+1)  \n",
    "    plt.boxplot(df[df.columns[i]])\n",
    "    plt.title(df.columns[i])\n",
    "\n",
    "plt.show()"
   ]
  },
  {
   "cell_type": "markdown",
   "id": "exciting-class",
   "metadata": {},
   "source": [
    "#### Analysis: \n",
    "\n",
    "From this data set we can see that on average, consumers around the age of 40 tend to shop more in e commerce sites. Those consumers who shop at eCommerce, for example Amazon, tend to spend relatively more with an overall average purchase amount being 3k. "
   ]
  },
  {
   "cell_type": "markdown",
   "id": "south-perspective",
   "metadata": {},
   "source": [
    "### D) Describe a Customer & Purchase Items and Cost"
   ]
  },
  {
   "cell_type": "code",
   "execution_count": 34,
   "id": "treated-subcommittee",
   "metadata": {},
   "outputs": [
    {
     "name": "stdout",
     "output_type": "stream",
     "text": [
      "Mary is 49 years old. She bought 1 item for $449.\n"
     ]
    }
   ],
   "source": [
    "x= \"Mary is 49 years old.\"\n",
    "y=\" She bought 1 item\"\n",
    "z= \" for $449.\"\n",
    "\n",
    "print(x+y+z)"
   ]
  },
  {
   "cell_type": "code",
   "execution_count": 35,
   "id": "korean-presentation",
   "metadata": {},
   "outputs": [
    {
     "name": "stdout",
     "output_type": "stream",
     "text": [
      "3, electronics cost $740.00\n"
     ]
    }
   ],
   "source": [
    "user_defined_function = 'f'\n",
    "\n",
    "def f(qty, item, price):\n",
    "    print(f'{qty},{item} cost ${price:.2f}')\n",
    "    \n",
    "f(3, ' electronics', 740)"
   ]
  },
  {
   "cell_type": "markdown",
   "id": "finished-wagon",
   "metadata": {},
   "source": [
    "### E) Graphs, Scatter, Histogram, Line "
   ]
  },
  {
   "cell_type": "code",
   "execution_count": 36,
   "id": "proud-freight",
   "metadata": {
    "scrolled": false
   },
   "outputs": [
    {
     "data": {
      "image/png": "[encoded data removed]",
      "text/plain": [
       "<Figure size 432x288 with 1 Axes>"
      ]
     },
     "metadata": {
      "needs_background": "light"
     },
     "output_type": "display_data"
    }
   ],
   "source": [
    "def my_function(x):\n",
    "    return x*2\n",
    "\n",
    "x = np.linspace (-5,5,100)\n",
    "\n",
    "y = my_function(x)\n",
    "\n",
    "plt.plot(x,y)\n",
    "\n",
    "plt.xlabel('Quantity')\n",
    "plt.ylabel('Price')\n",
    "\n",
    "plt.show()"
   ]
  },
  {
   "cell_type": "code",
   "execution_count": 36,
   "id": "widespread-cassette",
   "metadata": {
    "scrolled": false
   },
   "outputs": [
    {
     "data": {
      "image/png": "[encoded data removed]",
      "text/plain": [
       "<Figure size 432x288 with 1 Axes>"
      ]
     },
     "metadata": {
      "needs_background": "light"
     },
     "output_type": "display_data"
    },
    {
     "data": {
      "image/png": "[encoded data removed]",
      "text/plain": [
       "<Figure size 432x288 with 1 Axes>"
      ]
     },
     "metadata": {
      "needs_background": "light"
     },
     "output_type": "display_data"
    },
    {
     "data": {
      "image/png": "[encoded data removed]",
      "text/plain": [
       "<Figure size 432x288 with 1 Axes>"
      ]
     },
     "metadata": {
      "needs_background": "light"
     },
     "output_type": "display_data"
    }
   ],
   "source": [
    "for i in range(0,3):\n",
    "    df.plot(kind='scatter', x=df.columns[i], y='Customer Age')\n",
    "    plt.xlabel(df.columns[i])\n",
    "    plt.ylabel('Customer Age')\n",
    "    plt.show()"
   ]
  },
  {
   "cell_type": "markdown",
   "id": "invisible-monday",
   "metadata": {},
   "source": [
    "#### Analysis: \n",
    "We can see from scatter plot, the values tend to be spread out for purchase amount and age, product price and age. "
   ]
  },
  {
   "cell_type": "code",
   "execution_count": 35,
   "id": "medium-nancy",
   "metadata": {
    "scrolled": true
   },
   "outputs": [
    {
     "data": {
      "image/png": "[encoded data removed]",
      "text/plain": [
       "<Figure size 864x576 with 6 Axes>"
      ]
     },
     "metadata": {
      "needs_background": "light"
     },
     "output_type": "display_data"
    }
   ],
   "source": [
    "df[['Product Price', 'Quantity', 'Total Purchase Amount', 'Customer Age','Churn']].hist(figsize=(12,8),bins=20,linewidth='.90', color='steelblue', edgecolor='black', grid=False )\n",
    "plt.show()\n"
   ]
  },
  {
   "cell_type": "markdown",
   "id": "going-adoption",
   "metadata": {},
   "source": [
    "### From these data sets we can see: \n",
    "On histogram, data seems to be evenly distributed across all 4 categories. However, we can also see some more freqent data such as it seems that churn tends to be mostly zero, quantity is mostly 3 units and purchase amount tends to stick around 1.5k-2k. \n"
   ]
  },
  {
   "cell_type": "markdown",
   "id": "dental-world",
   "metadata": {},
   "source": [
    "### Conclusions: \n",
    "We can see frequency of unit buys, purchase amount, and we can poinpoint the age frequency as well. But it will be difficult to correlate age with purchase amount and product prices. Age seems not to play a big role in deciding how much someone tends to spend or how many units someone buys within eCommerce."
   ]
  }
 ],
 "metadata": {
  "kernelspec": {
   "display_name": "Python 3",
   "language": "python",
   "name": "python3"
  },
  "language_info": {
   "codemirror_mode": {
    "name": "ipython",
    "version": 3
   },
   "file_extension": ".py",
   "mimetype": "text/x-python",
   "name": "python",
   "nbconvert_exporter": "python",
   "pygments_lexer": "ipython3",
   "version": "3.9.2"
  }
 },
 "nbformat": 4,
 "nbformat_minor": 5
}
