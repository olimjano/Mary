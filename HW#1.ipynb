{
 "cells": [
  {
   "cell_type": "code",
   "execution_count": null,
   "metadata": {
    "scrolled": false
   },
   "outputs": [],
   "source": []
  },
  {
   "cell_type": "code",
   "execution_count": null,
   "metadata": {
    "scrolled": false
   },
   "outputs": [
    {
     "name": "stdout",
     "output_type": "stream",
     "text": [
      "Enter 1 to Subtract\n",
      "Enter 2 to Add\n",
      "Enter 3 to Divide\n",
      "Enter 4 to Multiply\n"
     ]
    }
   ],
   "source": [
    "# This function works as a calculator\n",
    "# This function subtracts two numbers \n",
    "def subtract (x,y):\n",
    "    return (x - y)\n",
    "# This function adds two numbers \n",
    "def add (x,y):\n",
    "    return (x + y) \n",
    "# This function divides two numbers\n",
    "def divide(x,y):\n",
    "    return(x / y)\n",
    "# This function multiplies two numbers \n",
    "def multiply (x,y):\n",
    "    return (x * y) \n",
    "print (\"Enter 1 to Subtract\")\n",
    "print (\"Enter 2 to Add\")\n",
    "print (\"Enter 3 to Divide\")\n",
    "print (\"Enter 4 to Multiply\")\n",
    "\n",
    "entry = input(\"Enter options 1,2,3,4:\")\n",
    "\n",
    "if entry =='1':\n",
    "    num1 = float(input(\"Enter first number\" ))\n",
    "    num2 = float(input(\"Enter second number\" ))\n",
    "    print(num1,\"-\",num2,\"=\",subtract(num1,num2))\n",
    "\n",
    "elif entry =='2':\n",
    "    num1 = float(input(\"Enter first number\" ))\n",
    "    num2 = float(input(\"Enter second number\" ))\n",
    "    print(num1,\"+\",num2,\"=\",add(num1,num2))\n",
    "    \n",
    "elif entry =='3':\n",
    "    num1 = float(input(\"Enter first number\" ))\n",
    "    num2 = float(input(\"Enter second number\" ))\n",
    "    print(num1,\"/\",num2,\"=\",divide(num1,num2))\n",
    "    \n",
    "elif entry =='4':\n",
    "    num1 = float(input(\"Enter first number\" ))\n",
    "    num2 = float(input(\"Enter second number\" ))\n",
    "    print(num1,\"*\",num2,\"=\",multiply(num1,num2))   \n",
    "    \n",
    "else: \n",
    "    print(\"Entry is outside of possible options\")\n",
    "    "
   ]
  },
  {
   "cell_type": "code",
   "execution_count": 20,
   "metadata": {
    "scrolled": true
   },
   "outputs": [
    {
     "data": {
      "text/plain": [
       "9"
      ]
     },
     "execution_count": 20,
     "metadata": {},
     "output_type": "execute_result"
    }
   ],
   "source": [
    "import numpy as np\n",
    "np.square(3)\n"
   ]
  },
  {
   "cell_type": "code",
   "execution_count": 25,
   "metadata": {
    "scrolled": true
   },
   "outputs": [
    {
     "name": "stdout",
     "output_type": "stream",
     "text": [
      "Let's play a game. Choose a random number from 1-10: If your number equals the random value, you win. 8.5\n",
      "The number you chose 8.5 is greater than the random value 4 , you lost\n"
     ]
    }
   ],
   "source": [
    "import random\n",
    "x = random.randint(1,10)\n",
    "myvar= float(input(\"Let's play a game. Choose a random number from 1-10: If your number equals the random value, you win. \"))\n",
    "if myvar > 10: \n",
    "    print(\"Enter value between 1-10\")\n",
    "elif myvar < 1: \n",
    "    print(\"Enter value between 1-10\")\n",
    "elif myvar > x:\n",
    "    print(\"The number you chose\",myvar,\"is greater than the random value\", x, \", you lost\")\n",
    "elif myvar < x:\n",
    "    print(\"The number you chose\",myvar,\"is less than the random value\", x, \", you lost\")\n",
    "else: \n",
    "    print(\"The number you chose\",myvar,\"is the random value\", x, \", you won!\")\n"
   ]
  },
  {
   "cell_type": "code",
   "execution_count": 33,
   "metadata": {},
   "outputs": [
    {
     "name": "stdout",
     "output_type": "stream",
     "text": [
      "Enter filePost.txt\n",
      "This file reads\n",
      "\n",
      "\n",
      "\n",
      "\n",
      "This file reads:\n",
      "\n",
      "Mary had a little lamb\n",
      "\n",
      "Write quickly, oh wait it's a paper jam!\n",
      "\n",
      "Roses are red, violets are blue \n",
      "\n",
      "I want another poem\n",
      "\n",
      "I don't know about you \n",
      "\n"
     ]
    }
   ],
   "source": [
    "# This will prompt the user to enter the file name \n",
    "name = input(\"Enter file\")\n",
    "# Open the file with permission to read\n",
    "file1 = open(name,'r')\n",
    "# For each line in the file\n",
    "print(\"This file reads\")\n",
    "for l1 in file1:\n",
    "    print(l1)\n",
    "file1.close()"
   ]
  }
 ],
 "metadata": {
  "kernelspec": {
   "display_name": "Python 3",
   "language": "python",
   "name": "python3"
  },
  "language_info": {
   "codemirror_mode": {
    "name": "ipython",
    "version": 3
   },
   "file_extension": ".py",
   "mimetype": "text/x-python",
   "name": "python",
   "nbconvert_exporter": "python",
   "pygments_lexer": "ipython3",
   "version": "3.9.2"
  }
 },
 "nbformat": 4,
 "nbformat_minor": 2
}
